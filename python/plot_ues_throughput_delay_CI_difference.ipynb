{
 "cells": [
  {
   "cell_type": "code",
   "execution_count": null,
   "metadata": {
    "collapsed": true
   },
   "outputs": [],
   "source": [
    "print \"Attendi...\"\n",
    "import numpy as np\n",
    "import matplotlib.pyplot as plt\n",
    "\n",
    "# parametri della simulazione\n",
    "n_ues = 12\n",
    "\n",
    "# percorso di input DEFAULT HANDOVER\n",
    "in_file_dho = \"/home/luca/Scrivania/TLCnet_prj/python/out_THR_DHO.npz\" # da impostare\n",
    "    \n",
    "# percorso di input MODIFIED HANDOVER\n",
    "in_file_mho = \"/home/luca/Scrivania/TLCnet_prj/python/out_THR_MHO.npz\" # da impostare\n",
    "\n",
    "print \"Finito!\""
   ]
  },
  {
   "cell_type": "code",
   "execution_count": null,
   "metadata": {
    "collapsed": true,
    "scrolled": true
   },
   "outputs": [],
   "source": [
    "print \"Attendi...\"\n",
    "\n",
    "loaded_dho = np.load(in_file_dho)\n",
    "time_quantum_dho = loaded_dho['time_quantum']\n",
    "time_start_dho = loaded_dho['time_start']\n",
    "time_end_dho = loaded_dho['time_end']\n",
    "times_dho = loaded_dho['times']\n",
    "mean_throughput_dho = loaded_dho['mean_throughput']\n",
    "delta_throughput_dho = loaded_dho['delta_throughput']\n",
    "avg_throughput_dho = loaded_dho['avg_throughput']\n",
    "mean_delay_dho = loaded_dho['mean_delay']\n",
    "delta_delay_dho = loaded_dho['delta_delay']\n",
    "avg_delay_dho = loaded_dho['avg_delay']\n",
    "    \n",
    "print \"Finito!\"\n",
    "print \"Dati caricati da \" + in_file_dho"
   ]
  },
  {
   "cell_type": "code",
   "execution_count": null,
   "metadata": {
    "collapsed": true
   },
   "outputs": [],
   "source": [
    "print \"Attendi...\"\n",
    "\n",
    "loaded_mho = np.load(in_file_mho)\n",
    "time_quantum_mho = loaded_mho['time_quantum']\n",
    "time_start_mho = loaded_mho['time_start']\n",
    "time_end_mho = loaded_mho['time_end']\n",
    "times_mho = loaded_mho['times']\n",
    "mean_throughput_mho = loaded_mho['mean_throughput']\n",
    "delta_throughput_mho = loaded_mho['delta_throughput']\n",
    "avg_throughput_mho = loaded_mho['avg_throughput']\n",
    "mean_delay_mho = loaded_mho['mean_delay']\n",
    "delta_delay_mho = loaded_mho['delta_delay']\n",
    "avg_delay_mho = loaded_mho['avg_delay']\n",
    "\n",
    "print \"Finito!\"\n",
    "print \"Dati caricati da \" + in_file_mho"
   ]
  },
  {
   "cell_type": "code",
   "execution_count": null,
   "metadata": {
    "collapsed": true
   },
   "outputs": [],
   "source": [
    "print \"Attendi...\"\n",
    "if (time_quantum_dho != time_quantum_mho):\n",
    "    print \"Errore: i valori di time_quantum non coincidono!\"\n",
    "elif (time_start_dho != time_start_mho):\n",
    "    print \"Errore: i valori di time_start non coincidono!\"\n",
    "elif (time_end_dho != time_end_mho):\n",
    "    print \"Errore: i valori di time_end non coincidono!\"\n",
    "else:\n",
    "    diff_mean_throughput = mean_throughput_mho - mean_throughput_dho\n",
    "    diff_delta_throughput = delta_throughput_mho - delta_throughput_dho\n",
    "    diff_avg_throughput = avg_throughput_mho - avg_throughput_dho\n",
    "\n",
    "    diff_mean_delay = mean_delay_dho - mean_delay_dho\n",
    "    diff_delta_delay = delta_delay_dho - delta_delay_dho\n",
    "    diff_avg_delay = avg_delay_dho - avg_delay_dho  \n",
    "    print \"Finito!\""
   ]
  },
  {
   "cell_type": "code",
   "execution_count": null,
   "metadata": {
    "collapsed": true
   },
   "outputs": [],
   "source": [
    "for i in range(n_ues):\n",
    "    fig = plt.figure(figsize = (20, 10))\n",
    "    ax = plt.gca()\n",
    "    ax.set_xlim(time_start_dho, time_end_dho)\n",
    "    ax.xaxis.set_ticks(times_dho)\n",
    "    ax.xaxis.set_ticklabels(times_dho)\n",
    "\n",
    "    plt.subplot(2, 1, 1)\n",
    "    plt.title(\"Differential throughput ue\" + str(i + 1))\n",
    "    plt.xlabel(\"Time [s]\")\n",
    "    plt.ylabel('Difference [Mb/s]')\n",
    "    plt.grid(True)\n",
    "\n",
    "    plt.plot(times_dho, diff_mean_throughput[i], lw = 2, color = 'b')\n",
    "    plt.plot(times_dho, diff_mean_throughput[i] + diff_delta_throughput[i], '--', lw = 1, color = 'b')\n",
    "    plt.plot(times_dho, diff_avg_throughput[i] * np.ones(len(times_dho)), '--', lw = 1, color = 'g')\n",
    "    plt.plot(times_dho, diff_mean_throughput[i] - diff_delta_throughput[i], '--', lw = 1, color = 'b')\n",
    "\n",
    "    plt.legend(['difference', 'CI 95%', \"differential mean\"])\n",
    "\n",
    "    plt.subplot(2, 1, 2)\n",
    "    plt.title(\"Differential delay ue\" + str(i + 1))\n",
    "    plt.xlabel(\"Time [s]\")\n",
    "    plt.ylabel('Difference [ms]')\n",
    "    plt.grid(True)\n",
    "\n",
    "    plt.plot(times_dho, diff_mean_delay[i], lw = 2, color = '#800080')\n",
    "    plt.plot(times_dho, diff_mean_delay[i] + diff_delta_delay[i], '--', lw = 1, color = '#800080')\n",
    "    plt.plot(times_dho, diff_avg_delay[i] * np.ones(len(times_dho)), '--', lw = 1, color = 'r')\n",
    "    plt.plot(times_dho, diff_mean_delay[i] - diff_delta_delay[i], '--', lw = 1, color = '#800080')\n",
    "\n",
    "    plt.legend(['difference', 'CI 95%', \"differential mean\"])\n",
    "\n",
    "    plt.show()"
   ]
  }
 ],
 "metadata": {
  "kernelspec": {
   "display_name": "Python 2",
   "language": "python",
   "name": "python2"
  },
  "language_info": {
   "codemirror_mode": {
    "name": "ipython",
    "version": 2
   },
   "file_extension": ".py",
   "mimetype": "text/x-python",
   "name": "python",
   "nbconvert_exporter": "python",
   "pygments_lexer": "ipython2",
   "version": "2.7.13"
  }
 },
 "nbformat": 4,
 "nbformat_minor": 2
}
