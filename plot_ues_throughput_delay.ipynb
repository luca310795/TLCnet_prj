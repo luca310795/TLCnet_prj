{
 "cells": [
  {
   "cell_type": "code",
   "execution_count": 7,
   "metadata": {
    "scrolled": false
   },
   "outputs": [
    {
     "ename": "KeyboardInterrupt",
     "evalue": "",
     "output_type": "error",
     "traceback": [
      "\u001b[0;31m---------------------------------------------------------------------------\u001b[0m",
      "\u001b[0;31mKeyboardInterrupt\u001b[0m                         Traceback (most recent call last)",
      "\u001b[0;32m<ipython-input-7-c18f5d45bbe8>\u001b[0m in \u001b[0;36m<module>\u001b[0;34m()\u001b[0m\n\u001b[1;32m     37\u001b[0m     \u001b[0mcount\u001b[0m \u001b[0;34m=\u001b[0m \u001b[0mnp\u001b[0m\u001b[0;34m.\u001b[0m\u001b[0mzeros\u001b[0m\u001b[0;34m(\u001b[0m\u001b[0mlen\u001b[0m\u001b[0;34m(\u001b[0m\u001b[0mtimes\u001b[0m\u001b[0;34m)\u001b[0m\u001b[0;34m)\u001b[0m\u001b[0;34m\u001b[0m\u001b[0m\n\u001b[1;32m     38\u001b[0m     \u001b[0;32mfor\u001b[0m \u001b[0mpck\u001b[0m \u001b[0;32min\u001b[0m \u001b[0mues_rx\u001b[0m\u001b[0;34m[\u001b[0m\u001b[0mi\u001b[0m\u001b[0;34m]\u001b[0m\u001b[0;34m:\u001b[0m\u001b[0;34m\u001b[0m\u001b[0m\n\u001b[0;32m---> 39\u001b[0;31m         \u001b[0mthroughput\u001b[0m\u001b[0;34m[\u001b[0m\u001b[0mi\u001b[0m\u001b[0;34m,\u001b[0m \u001b[0mint\u001b[0m\u001b[0;34m(\u001b[0m\u001b[0mfloor\u001b[0m\u001b[0;34m(\u001b[0m\u001b[0mpck\u001b[0m\u001b[0;34m[\u001b[0m\u001b[0;36m0\u001b[0m\u001b[0;34m]\u001b[0m \u001b[0;34m/\u001b[0m \u001b[0mtime_quantum\u001b[0m\u001b[0;34m)\u001b[0m\u001b[0;34m)\u001b[0m\u001b[0;34m]\u001b[0m \u001b[0;34m+=\u001b[0m \u001b[0mpck\u001b[0m\u001b[0;34m[\u001b[0m\u001b[0;36m1\u001b[0m\u001b[0;34m]\u001b[0m\u001b[0;34m\u001b[0m\u001b[0m\n\u001b[0m\u001b[1;32m     40\u001b[0m         \u001b[0mavg_throughput\u001b[0m\u001b[0;34m[\u001b[0m\u001b[0mi\u001b[0m\u001b[0;34m]\u001b[0m \u001b[0;34m+=\u001b[0m \u001b[0mpck\u001b[0m\u001b[0;34m[\u001b[0m\u001b[0;36m1\u001b[0m\u001b[0;34m]\u001b[0m \u001b[0;34m/\u001b[0m \u001b[0mlen\u001b[0m\u001b[0;34m(\u001b[0m\u001b[0mtimes\u001b[0m\u001b[0;34m)\u001b[0m\u001b[0;34m\u001b[0m\u001b[0m\n\u001b[1;32m     41\u001b[0m         \u001b[0mdelay\u001b[0m\u001b[0;34m[\u001b[0m\u001b[0mi\u001b[0m\u001b[0;34m,\u001b[0m \u001b[0mint\u001b[0m\u001b[0;34m(\u001b[0m\u001b[0mfloor\u001b[0m\u001b[0;34m(\u001b[0m\u001b[0mpck\u001b[0m\u001b[0;34m[\u001b[0m\u001b[0;36m0\u001b[0m\u001b[0;34m]\u001b[0m \u001b[0;34m/\u001b[0m \u001b[0mtime_quantum\u001b[0m\u001b[0;34m)\u001b[0m\u001b[0;34m)\u001b[0m\u001b[0;34m]\u001b[0m \u001b[0;34m+=\u001b[0m \u001b[0mpck\u001b[0m\u001b[0;34m[\u001b[0m\u001b[0;36m2\u001b[0m\u001b[0;34m]\u001b[0m\u001b[0;34m\u001b[0m\u001b[0m\n",
      "\u001b[0;31mKeyboardInterrupt\u001b[0m: "
     ]
    }
   ],
   "source": [
    "import numpy as np\n",
    "import matplotlib.pyplot as plt\n",
    "from math import floor\n",
    "\n",
    "file_pdcp_dl = \"/home/luca/Scaricati/output/prova/mcDlPdcpStats_5_10_22_12_2017_12_29_53.txt\"\n",
    "\n",
    "n_ues = 12;\n",
    "ues_rx = [[] for _ in range(n_ues)]\n",
    "time_quantum = 0.01\n",
    "start_time = 0\n",
    "end_time = 60# da impostare\n",
    "\n",
    "with open(file_pdcp_dl, 'r') as f: \n",
    "    prev_line = f.readline()\n",
    "    for line in f:\n",
    "        # elimino duplicati consecutivi\n",
    "        if (line != prev_line):\n",
    "            tokens = line.rstrip().split(' ')\n",
    "            if tokens[0] == \"Rx\":\n",
    "                lcid = int(tokens[5])\n",
    "                if lcid > 1:\n",
    "                    time = float(tokens[1])\n",
    "                    ue = int(tokens[3]) - 1\n",
    "                    lcid = int(tokens[5])\n",
    "                    pck_size = int(tokens[6]) / (10e6 * time_quantum)\n",
    "                    pck_delay = int(tokens[7]) / 10e6\n",
    "                    ues_rx[ue].append((time, pck_size, pck_delay))\n",
    "    f.close()\n",
    "\n",
    "times = np.arange(start_time, end_time + time_quantum, time_quantum)\n",
    "throughput = np.zeros((n_ues, len(times)))\n",
    "avg_throughput = np.zeros(n_ues)\n",
    "delay = np.zeros((n_ues, len(times)))\n",
    "avg_delay = np.zeros(n_ues)\n",
    "\n",
    "for i in range(n_ues):\n",
    "    count = np.zeros(len(times))\n",
    "    for pck in ues_rx[i]:\n",
    "        throughput[i, int(floor(pck[0] / time_quantum))] += pck[1]\n",
    "        avg_throughput[i] += pck[1] / len(times)\n",
    "        delay[i, int(floor(pck[0] / time_quantum))] += pck[2]\n",
    "        count[int(floor(pck[0] / time_quantum))] += 1\n",
    "    count = count.clip(min = 1)\n",
    "    delay[i] = np.divide(delay[i], count)\n",
    "    avg_delay[i] = np.mean(delay[i])\n",
    "\n",
    "#sigma_delay = [np.sqrt(np.mean(np.square(delay[i] - mean_delay[i]))) for i in range(n_ues)]\n",
    "\n",
    "for i in range(n_ues):\n",
    "    fig = plt.figure(figsize = (20, 10))\n",
    "    ax1 = plt.gca()\n",
    "    ax1.set_xlim(start_time, end_time)\n",
    "    ax1.xaxis.set_ticks(np.arange(start_time, end_time, time_quantum))\n",
    "    ax1.xaxis.set_ticklabels(np.arange(start_time, end_time, time_quantum))\n",
    "\n",
    "    plt.subplot(2, 1, 1)\n",
    "    plt.title(\"Throughput ue\" + str(i + 1))\n",
    "    plt.xlabel(\"Time [s]\")\n",
    "    plt.ylabel('Througput [Mb/s]')\n",
    "    plt.grid(True)\n",
    "\n",
    "    plt.plot(times, throughput[i], lw = 2, color = 'b')\n",
    "    plt.plot(times, np.ones(len(times)) * avg_throughput[i], '--', lw = 2, color = 'b')\n",
    "    #plt.plot(times, np.ones(len(times)) * sigma_throughput[i], '--', lw = 2, color = 'g')\n",
    "    \n",
    "    plt.legend(['throughput', 'mean'])\n",
    "    \n",
    "    plt.subplot(2, 1, 2)\n",
    "    plt.title(\"Delay ue\" + str(i + 1))\n",
    "    plt.xlabel(\"Time [s]\")\n",
    "    plt.ylabel('Delay [ms]')\n",
    "    plt.grid(True)\n",
    "\n",
    "    plt.plot(times, delay[i], lw = 2, color = '#800080')\n",
    "    plt.plot(times, np.ones(len(times)) * avg_delay[i], '--', lw = 2, color = '#800080')\n",
    "    #plt.plot(times, np.ones(len(times)) * sigma_delay[i], '--', lw = 2, color = 'r')\n",
    "    \n",
    "    plt.legend(['delay', 'mean'])\n",
    "    \n",
    "    plt.tight_layout()\n",
    "    plt.show()"
   ]
  },
  {
   "cell_type": "code",
   "execution_count": null,
   "metadata": {
    "collapsed": true
   },
   "outputs": [],
   "source": []
  }
 ],
 "metadata": {
  "kernelspec": {
   "display_name": "Python 2",
   "language": "python",
   "name": "python2"
  },
  "language_info": {
   "codemirror_mode": {
    "name": "ipython",
    "version": 2
   },
   "file_extension": ".py",
   "mimetype": "text/x-python",
   "name": "python",
   "nbconvert_exporter": "python",
   "pygments_lexer": "ipython2",
   "version": "2.7.13"
  }
 },
 "nbformat": 4,
 "nbformat_minor": 2
}
